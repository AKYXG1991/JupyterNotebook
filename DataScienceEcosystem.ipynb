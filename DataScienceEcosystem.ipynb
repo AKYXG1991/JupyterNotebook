{
 "cells": [
  {
   "cell_type": "markdown",
   "id": "c23d2a6d-c5a0-40ec-a04d-96340f3553ab",
   "metadata": {
    "tags": []
   },
   "source": [
    "# Data Science Tools and Ecosystem"
   ]
  },
  {
   "cell_type": "markdown",
   "id": "ab91062e-7c1d-421d-b1b9-4b9fa23ce73b",
   "metadata": {},
   "source": [
    "## Author\n",
    "Anthony G"
   ]
  },
  {
   "cell_type": "markdown",
   "id": "d245f702-0ab7-4c30-9a02-395a6789bf0b",
   "metadata": {},
   "source": [
    "In this notebook, Data Science Tools and Ecosystem are summarized."
   ]
  },
  {
   "cell_type": "markdown",
   "id": "6739c7b3-610b-4b07-9941-d23ef0b6ecb8",
   "metadata": {},
   "source": [
    "**Objectives:**\n",
    "- List Popular Languages\n",
    "- List Common Libraries\n",
    "- List Common Tools\n",
    "- Show examples of arithmetic expressions"
   ]
  },
  {
   "cell_type": "markdown",
   "id": "fea51d92-3815-4445-87e3-f1fc0b908562",
   "metadata": {},
   "source": [
    "Some of the popular languages that Data Scientists use are:\n",
    "1. Python\n",
    "2. R\n",
    "3. SQL"
   ]
  },
  {
   "cell_type": "markdown",
   "id": "b8fe9f7f-61d9-48c1-be57-5ac804e86644",
   "metadata": {},
   "source": [
    "Some of the commonly used libraries used by Data Scientists include:\n",
    "1. NumPy\n",
    "2. SciPy\n",
    "3. Tensorflow"
   ]
  },
  {
   "cell_type": "markdown",
   "id": "32220105-158f-4166-bd32-6b2fe5f7915d",
   "metadata": {
    "tags": []
   },
   "source": [
    "|Data Science Tools|\n",
    "|:-----------------:|\n",
    "|Jupyter Notebook|\n",
    "|VSCode|\n",
    "|R Studio|"
   ]
  },
  {
   "cell_type": "markdown",
   "id": "c010b6b4-a2e4-4603-a0f7-9be8b59a0816",
   "metadata": {},
   "source": [
    "### Below are a few examples of evaluating arithmetic expressions in Python:"
   ]
  },
  {
   "cell_type": "code",
   "execution_count": 2,
   "id": "d3d41368-4a61-45d7-af3d-36f5a6c1d2ec",
   "metadata": {
    "tags": []
   },
   "outputs": [
    {
     "data": {
      "text/plain": [
       "17"
      ]
     },
     "execution_count": 2,
     "metadata": {},
     "output_type": "execute_result"
    }
   ],
   "source": [
    "# This a simple arithmetic expression to mutiply then add integers\n",
    "(3*4)+5"
   ]
  },
  {
   "cell_type": "code",
   "execution_count": 3,
   "id": "8a0a732d-5721-497f-9ef3-53e023a7c888",
   "metadata": {
    "tags": []
   },
   "outputs": [
    {
     "data": {
      "text/plain": [
       "3.3333333333333335"
      ]
     },
     "execution_count": 3,
     "metadata": {},
     "output_type": "execute_result"
    }
   ],
   "source": [
    "# This will convert 200 minutes to hours by diving by 60\n",
    "200/60"
   ]
  },
  {
   "cell_type": "code",
   "execution_count": null,
   "id": "1f35480e-198f-41c8-a418-da87e7f075c1",
   "metadata": {},
   "outputs": [],
   "source": []
  }
 ],
 "metadata": {
  "kernelspec": {
   "display_name": "Python",
   "language": "python",
   "name": "conda-env-python-py"
  },
  "language_info": {
   "codemirror_mode": {
    "name": "ipython",
    "version": 3
   },
   "file_extension": ".py",
   "mimetype": "text/x-python",
   "name": "python",
   "nbconvert_exporter": "python",
   "pygments_lexer": "ipython3",
   "version": "3.7.12"
  }
 },
 "nbformat": 4,
 "nbformat_minor": 5
}
